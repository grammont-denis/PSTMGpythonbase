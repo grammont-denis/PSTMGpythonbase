{
 "cells": [
  {
   "cell_type": "markdown",
   "metadata": {},
   "source": [
    "Interaction n°1\n",
    "Le programme suivant indique le type de la variable « a »\n",
    "Remplacer ### par vos essais et tenter d’obtenir les 5 types de variables différents."
   ]
  },
  {
   "cell_type": "code",
   "execution_count": 1,
   "metadata": {},
   "outputs": [
    {
     "data": {
      "text/plain": [
       "int"
      ]
     },
     "execution_count": 1,
     "metadata": {},
     "output_type": "execute_result"
    }
   ],
   "source": [
    "a=###\n",
    "type(a)"
   ]
  },
  {
   "cell_type": "markdown",
   "metadata": {},
   "source": [
    "Interaction n°2\n",
    "Nous voulons écrire un programme qui calcule le double d’un nombre. Celui proposé ne fonctionne pas, tester le et corriger\n",
    "l’erreur."
   ]
  },
  {
   "cell_type": "code",
   "execution_count": null,
   "metadata": {},
   "outputs": [],
   "source": [
    "a=input(\"nombre a=\")\n",
    "r=2∗a\n",
    "print(r)"
   ]
  },
  {
   "cell_type": "markdown",
   "metadata": {},
   "source": [
    "Interaction n°3\n",
    "Remplacer ### dans le programme python afin qu’il corresponde à l’algorithme ci-dessous :"
   ]
  },
  {
   "cell_type": "code",
   "execution_count": null,
   "metadata": {},
   "outputs": [],
   "source": [
    "N=float(input(\"note ?\"))\n",
    "if ### :\n",
    "print(\"bravo\")\n",
    "else :\n",
    "print(\"il faudra faire mieux\")"
   ]
  },
  {
   "cell_type": "markdown",
   "metadata": {},
   "source": [
    "Interaction n°4\n",
    "Améliorer en rajoutant des lignes le programme précédent afin qu’il réponde au cahier des charges suivant :\n",
    "• Pour une note strictement plus petite que 8, écrire « Au travail ».\n",
    "• Pour une note strictement plus grande que 12, écrire « Bravo ».\n",
    "• Dans les autres cas, écrire « Trop moyen »."
   ]
  },
  {
   "cell_type": "code",
   "execution_count": null,
   "metadata": {},
   "outputs": [],
   "source": [
    "N=float(input(\"note ?\"))\n",
    "if ### :\n",
    "print(\" . . . . . . . . . . . . . . . . . . . . . . \")\n",
    "\n",
    "\n",
    "else :\n",
    "print(\" . . . . . . . . . . . . . . . . . . . . . . . \")"
   ]
  },
  {
   "cell_type": "markdown",
   "metadata": {},
   "source": [
    "Interaction n°5\n",
    "Compléter le programme du début de cours afin d’incorporer dans le menu la soustraction et la division de deux nombres."
   ]
  },
  {
   "cell_type": "code",
   "execution_count": null,
   "metadata": {},
   "outputs": [],
   "source": [
    "A=input(\"quel est ton nom?\")\n",
    "B=float(input(\"premier nombre ?\"))\n",
    "C=float(input(\"deuxieme nombre ?\"))\n",
    "D=int(input(\"tape 1 pour addition ou 2 pour multiplication\"))\n",
    "E=B+C\n",
    "F=B∗C\n",
    "if    \n",
    "    print(\"Bonjour\",A)\n",
    "    print(\"le resultat est\",E)\n",
    "if    \n",
    "    print(\"Bonjour\",A)\n",
    "    print(\"le resultat est\",F)"
   ]
  }
 ],
 "metadata": {
  "kernelspec": {
   "display_name": "Python 3",
   "language": "python",
   "name": "python3"
  },
  "language_info": {
   "codemirror_mode": {
    "name": "ipython",
    "version": 3
   },
   "file_extension": ".py",
   "mimetype": "text/x-python",
   "name": "python",
   "nbconvert_exporter": "python",
   "pygments_lexer": "ipython3",
   "version": "3.7.6"
  }
 },
 "nbformat": 4,
 "nbformat_minor": 4
}
